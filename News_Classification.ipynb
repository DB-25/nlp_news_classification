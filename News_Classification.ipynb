{
  "cells": [
    {
      "cell_type": "code",
      "execution_count": null,
      "id": "4541b868",
      "metadata": {
        "id": "4541b868"
      },
      "outputs": [],
      "source": [
        "import nltk"
      ]
    },
    {
      "cell_type": "code",
      "execution_count": null,
      "id": "47b7e1ec",
      "metadata": {
        "scrolled": true,
        "id": "47b7e1ec"
      },
      "outputs": [],
      "source": [
        "import pandas as pd"
      ]
    },
    {
      "cell_type": "code",
      "execution_count": null,
      "id": "b2f0d243",
      "metadata": {
        "id": "b2f0d243"
      },
      "outputs": [],
      "source": [
        "fake = pd.read_csv(\"Fake.csv\")\n",
        "genuine = pd.read_csv(\"True.csv\")"
      ]
    },
    {
      "cell_type": "code",
      "execution_count": null,
      "id": "d4f87c7e",
      "metadata": {
        "id": "d4f87c7e",
        "outputId": "35870474-3c35-4c2d-9cf0-2ed719299142"
      },
      "outputs": [
        {
          "name": "stdout",
          "output_type": "stream",
          "text": [
            "<class 'pandas.core.frame.DataFrame'>\n",
            "RangeIndex: 23481 entries, 0 to 23480\n",
            "Data columns (total 5 columns):\n",
            " #   Column   Non-Null Count  Dtype \n",
            "---  ------   --------------  ----- \n",
            " 0   title    23481 non-null  object\n",
            " 1   text     23481 non-null  object\n",
            " 2   subject  23481 non-null  object\n",
            " 3   date     23481 non-null  object\n",
            " 4   target   23481 non-null  int64 \n",
            "dtypes: int64(1), object(4)\n",
            "memory usage: 917.4+ KB\n"
          ]
        },
        {
          "data": {
            "text/plain": [
              "None"
            ]
          },
          "metadata": {},
          "output_type": "display_data"
        }
      ],
      "source": [
        "display(fake.info())"
      ]
    },
    {
      "cell_type": "code",
      "execution_count": null,
      "id": "d3ce00d1",
      "metadata": {
        "id": "d3ce00d1",
        "outputId": "705f3c86-aeca-4c02-ccaf-04267e947596"
      },
      "outputs": [
        {
          "name": "stdout",
          "output_type": "stream",
          "text": [
            "<class 'pandas.core.frame.DataFrame'>\n",
            "RangeIndex: 21417 entries, 0 to 21416\n",
            "Data columns (total 5 columns):\n",
            " #   Column   Non-Null Count  Dtype \n",
            "---  ------   --------------  ----- \n",
            " 0   title    21417 non-null  object\n",
            " 1   text     21417 non-null  object\n",
            " 2   subject  21417 non-null  object\n",
            " 3   date     21417 non-null  object\n",
            " 4   target   21417 non-null  int64 \n",
            "dtypes: int64(1), object(4)\n",
            "memory usage: 836.7+ KB\n"
          ]
        },
        {
          "data": {
            "text/plain": [
              "None"
            ]
          },
          "metadata": {},
          "output_type": "display_data"
        }
      ],
      "source": [
        "display(genuine.info())"
      ]
    },
    {
      "cell_type": "code",
      "execution_count": null,
      "id": "71ed1bd7",
      "metadata": {
        "id": "71ed1bd7",
        "outputId": "9a231e1b-1507-4ea6-9186-3d634b7b04d7"
      },
      "outputs": [
        {
          "data": {
            "text/html": [
              "<div>\n",
              "<style scoped>\n",
              "    .dataframe tbody tr th:only-of-type {\n",
              "        vertical-align: middle;\n",
              "    }\n",
              "\n",
              "    .dataframe tbody tr th {\n",
              "        vertical-align: top;\n",
              "    }\n",
              "\n",
              "    .dataframe thead th {\n",
              "        text-align: right;\n",
              "    }\n",
              "</style>\n",
              "<table border=\"1\" class=\"dataframe\">\n",
              "  <thead>\n",
              "    <tr style=\"text-align: right;\">\n",
              "      <th></th>\n",
              "      <th>title</th>\n",
              "      <th>text</th>\n",
              "      <th>subject</th>\n",
              "      <th>date</th>\n",
              "      <th>target</th>\n",
              "    </tr>\n",
              "  </thead>\n",
              "  <tbody>\n",
              "    <tr>\n",
              "      <th>0</th>\n",
              "      <td>As U.S. budget fight looms, Republicans flip t...</td>\n",
              "      <td>WASHINGTON (Reuters) - The head of a conservat...</td>\n",
              "      <td>politicsNews</td>\n",
              "      <td>December 31, 2017</td>\n",
              "      <td>1</td>\n",
              "    </tr>\n",
              "    <tr>\n",
              "      <th>1</th>\n",
              "      <td>U.S. military to accept transgender recruits o...</td>\n",
              "      <td>WASHINGTON (Reuters) - Transgender people will...</td>\n",
              "      <td>politicsNews</td>\n",
              "      <td>December 29, 2017</td>\n",
              "      <td>1</td>\n",
              "    </tr>\n",
              "    <tr>\n",
              "      <th>2</th>\n",
              "      <td>Senior U.S. Republican senator: 'Let Mr. Muell...</td>\n",
              "      <td>WASHINGTON (Reuters) - The special counsel inv...</td>\n",
              "      <td>politicsNews</td>\n",
              "      <td>December 31, 2017</td>\n",
              "      <td>1</td>\n",
              "    </tr>\n",
              "    <tr>\n",
              "      <th>3</th>\n",
              "      <td>FBI Russia probe helped by Australian diplomat...</td>\n",
              "      <td>WASHINGTON (Reuters) - Trump campaign adviser ...</td>\n",
              "      <td>politicsNews</td>\n",
              "      <td>December 30, 2017</td>\n",
              "      <td>1</td>\n",
              "    </tr>\n",
              "    <tr>\n",
              "      <th>4</th>\n",
              "      <td>Trump wants Postal Service to charge 'much mor...</td>\n",
              "      <td>SEATTLE/WASHINGTON (Reuters) - President Donal...</td>\n",
              "      <td>politicsNews</td>\n",
              "      <td>December 29, 2017</td>\n",
              "      <td>1</td>\n",
              "    </tr>\n",
              "  </tbody>\n",
              "</table>\n",
              "</div>"
            ],
            "text/plain": [
              "                                               title  \\\n",
              "0  As U.S. budget fight looms, Republicans flip t...   \n",
              "1  U.S. military to accept transgender recruits o...   \n",
              "2  Senior U.S. Republican senator: 'Let Mr. Muell...   \n",
              "3  FBI Russia probe helped by Australian diplomat...   \n",
              "4  Trump wants Postal Service to charge 'much mor...   \n",
              "\n",
              "                                                text       subject  \\\n",
              "0  WASHINGTON (Reuters) - The head of a conservat...  politicsNews   \n",
              "1  WASHINGTON (Reuters) - Transgender people will...  politicsNews   \n",
              "2  WASHINGTON (Reuters) - The special counsel inv...  politicsNews   \n",
              "3  WASHINGTON (Reuters) - Trump campaign adviser ...  politicsNews   \n",
              "4  SEATTLE/WASHINGTON (Reuters) - President Donal...  politicsNews   \n",
              "\n",
              "                 date  target  \n",
              "0  December 31, 2017        1  \n",
              "1  December 29, 2017        1  \n",
              "2  December 31, 2017        1  \n",
              "3  December 30, 2017        1  \n",
              "4  December 29, 2017        1  "
            ]
          },
          "metadata": {},
          "output_type": "display_data"
        }
      ],
      "source": [
        "display(genuine.head())"
      ]
    },
    {
      "cell_type": "code",
      "execution_count": null,
      "id": "3a33c215",
      "metadata": {
        "id": "3a33c215",
        "outputId": "ca182cb2-9890-4245-8635-549c4106c614"
      },
      "outputs": [
        {
          "data": {
            "text/plain": [
              "politicsNews    11272\n",
              "worldnews       10145\n",
              "Name: subject, dtype: int64"
            ]
          },
          "metadata": {},
          "output_type": "display_data"
        }
      ],
      "source": [
        "display(genuine.subject.value_counts())"
      ]
    },
    {
      "cell_type": "code",
      "execution_count": null,
      "id": "4f17f773",
      "metadata": {
        "id": "4f17f773"
      },
      "outputs": [],
      "source": [
        "fake['target']=0\n",
        "genuine['target']=1"
      ]
    },
    {
      "cell_type": "code",
      "execution_count": null,
      "id": "78691786",
      "metadata": {
        "id": "78691786"
      },
      "outputs": [],
      "source": [
        "data=pd.concat([fake,genuine],axis=0)"
      ]
    },
    {
      "cell_type": "code",
      "execution_count": null,
      "id": "f7289d83",
      "metadata": {
        "id": "f7289d83"
      },
      "outputs": [],
      "source": [
        "data=data.reset_index(drop=True)"
      ]
    },
    {
      "cell_type": "code",
      "execution_count": null,
      "id": "49dcedde",
      "metadata": {
        "id": "49dcedde",
        "outputId": "94e15a18-aed9-4a7d-d5af-258a94402f35"
      },
      "outputs": [
        {
          "data": {
            "text/html": [
              "<div>\n",
              "<style scoped>\n",
              "    .dataframe tbody tr th:only-of-type {\n",
              "        vertical-align: middle;\n",
              "    }\n",
              "\n",
              "    .dataframe tbody tr th {\n",
              "        vertical-align: top;\n",
              "    }\n",
              "\n",
              "    .dataframe thead th {\n",
              "        text-align: right;\n",
              "    }\n",
              "</style>\n",
              "<table border=\"1\" class=\"dataframe\">\n",
              "  <thead>\n",
              "    <tr style=\"text-align: right;\">\n",
              "      <th></th>\n",
              "      <th>text</th>\n",
              "      <th>target</th>\n",
              "    </tr>\n",
              "  </thead>\n",
              "  <tbody>\n",
              "    <tr>\n",
              "      <th>0</th>\n",
              "      <td>Donald Trump just couldn t wish all Americans ...</td>\n",
              "      <td>0</td>\n",
              "    </tr>\n",
              "    <tr>\n",
              "      <th>1</th>\n",
              "      <td>House Intelligence Committee Chairman Devin Nu...</td>\n",
              "      <td>0</td>\n",
              "    </tr>\n",
              "    <tr>\n",
              "      <th>2</th>\n",
              "      <td>On Friday, it was revealed that former Milwauk...</td>\n",
              "      <td>0</td>\n",
              "    </tr>\n",
              "    <tr>\n",
              "      <th>3</th>\n",
              "      <td>On Christmas day, Donald Trump announced that ...</td>\n",
              "      <td>0</td>\n",
              "    </tr>\n",
              "    <tr>\n",
              "      <th>4</th>\n",
              "      <td>Pope Francis used his annual Christmas Day mes...</td>\n",
              "      <td>0</td>\n",
              "    </tr>\n",
              "  </tbody>\n",
              "</table>\n",
              "</div>"
            ],
            "text/plain": [
              "                                                text  target\n",
              "0  Donald Trump just couldn t wish all Americans ...       0\n",
              "1  House Intelligence Committee Chairman Devin Nu...       0\n",
              "2  On Friday, it was revealed that former Milwauk...       0\n",
              "3  On Christmas day, Donald Trump announced that ...       0\n",
              "4  Pope Francis used his annual Christmas Day mes...       0"
            ]
          },
          "metadata": {},
          "output_type": "display_data"
        }
      ],
      "source": [
        "display(data.head())"
      ]
    },
    {
      "cell_type": "code",
      "execution_count": null,
      "id": "61e03d02",
      "metadata": {
        "id": "61e03d02"
      },
      "outputs": [],
      "source": [
        "data=data.drop(['subject','date','title'],axis=1)"
      ]
    },
    {
      "cell_type": "code",
      "execution_count": null,
      "id": "0297d953",
      "metadata": {
        "id": "0297d953"
      },
      "outputs": [],
      "source": [
        "from nltk.tokenize import word_tokenize"
      ]
    },
    {
      "cell_type": "code",
      "execution_count": null,
      "id": "e091ab46",
      "metadata": {
        "id": "e091ab46"
      },
      "outputs": [],
      "source": [
        "data['text']=data['text'].apply(word_tokenize)"
      ]
    },
    {
      "cell_type": "code",
      "execution_count": null,
      "id": "67a3a13f",
      "metadata": {
        "id": "67a3a13f",
        "outputId": "9865deda-1bb6-4f7d-cb1e-87d780d7e976"
      },
      "outputs": [
        {
          "name": "stdout",
          "output_type": "stream",
          "text": [
            "                                                text  target\n",
            "0  [Donald, Trump, just, couldn, t, wish, all, Am...       0\n",
            "1  [House, Intelligence, Committee, Chairman, Dev...       0\n",
            "2  [On, Friday, ,, it, was, revealed, that, forme...       0\n",
            "3  [On, Christmas, day, ,, Donald, Trump, announc...       0\n",
            "4  [Pope, Francis, used, his, annual, Christmas, ...       0\n",
            "5  [The, number, of, cases, of, cops, brutalizing...       0\n",
            "6  [Donald, Trump, spent, a, good, portion, of, h...       0\n",
            "7  [In, the, wake, of, yet, another, court, decis...       0\n",
            "8  [Many, people, have, raised, the, alarm, regar...       0\n",
            "9  [Just, when, you, might, have, thought, we, d,...       0\n"
          ]
        }
      ],
      "source": [
        "print(data.head(10))"
      ]
    },
    {
      "cell_type": "code",
      "execution_count": null,
      "id": "b86bc3ad",
      "metadata": {
        "id": "b86bc3ad"
      },
      "outputs": [],
      "source": [
        "from nltk.stem.snowball import SnowballStemmer\n",
        "porter = SnowballStemmer(\"english\")"
      ]
    },
    {
      "cell_type": "code",
      "execution_count": null,
      "id": "a600000c",
      "metadata": {
        "id": "a600000c"
      },
      "outputs": [],
      "source": [
        "def stem_it(text):\n",
        "    return [porter.stem(word) for word in text]"
      ]
    },
    {
      "cell_type": "code",
      "execution_count": null,
      "id": "c0215db0",
      "metadata": {
        "id": "c0215db0"
      },
      "outputs": [],
      "source": [
        "data['text']=data['text'].apply(stem_it)"
      ]
    },
    {
      "cell_type": "code",
      "execution_count": null,
      "id": "4b09977d",
      "metadata": {
        "scrolled": true,
        "id": "4b09977d",
        "outputId": "81521fbb-23ec-4904-fa6c-b746110f7304"
      },
      "outputs": [
        {
          "name": "stdout",
          "output_type": "stream",
          "text": [
            "                                                text  target\n",
            "0  [donald, trump, just, couldn, t, wish, all, am...       0\n",
            "1  [hous, intellig, committe, chairman, devin, nu...       0\n",
            "2  [on, friday, ,, it, was, reveal, that, former,...       0\n",
            "3  [on, christma, day, ,, donald, trump, announc,...       0\n",
            "4  [pope, franci, use, his, annual, christma, day...       0\n",
            "5  [the, number, of, case, of, cop, brutal, and, ...       0\n",
            "6  [donald, trump, spent, a, good, portion, of, h...       0\n",
            "7  [in, the, wake, of, yet, anoth, court, decis, ...       0\n",
            "8  [mani, peopl, have, rais, the, alarm, regard, ...       0\n",
            "9  [just, when, you, might, have, thought, we, d,...       0\n"
          ]
        }
      ],
      "source": [
        "print(data.head(10))"
      ]
    },
    {
      "cell_type": "markdown",
      "id": "3d2f2921",
      "metadata": {
        "id": "3d2f2921"
      },
      "source": [
        "# Stopword removal"
      ]
    },
    {
      "cell_type": "code",
      "execution_count": null,
      "id": "593724ba",
      "metadata": {
        "id": "593724ba"
      },
      "outputs": [],
      "source": [
        "def stop_it(t):\n",
        "    dt=[word for word in t if len(word)>2]\n",
        "    return dt"
      ]
    },
    {
      "cell_type": "code",
      "execution_count": null,
      "id": "63e67802",
      "metadata": {
        "id": "63e67802"
      },
      "outputs": [],
      "source": [
        "data['text']=data['text'].apply(stop_it)"
      ]
    },
    {
      "cell_type": "code",
      "execution_count": null,
      "id": "83f95917",
      "metadata": {
        "id": "83f95917",
        "outputId": "a6c74a11-87f5-4238-d9be-231a05c72be0"
      },
      "outputs": [
        {
          "name": "stdout",
          "output_type": "stream",
          "text": [
            "                                                text  target\n",
            "0  [donald, trump, just, couldn, wish, all, ameri...       0\n",
            "1  [hous, intellig, committe, chairman, devin, nu...       0\n",
            "2  [friday, was, reveal, that, former, milwauke, ...       0\n",
            "3  [christma, day, donald, trump, announc, that, ...       0\n",
            "4  [pope, franci, use, his, annual, christma, day...       0\n",
            "5  [the, number, case, cop, brutal, and, kill, pe...       0\n",
            "6  [donald, trump, spent, good, portion, his, day...       0\n",
            "7  [the, wake, yet, anoth, court, decis, that, de...       0\n",
            "8  [mani, peopl, have, rais, the, alarm, regard, ...       0\n",
            "9  [just, when, you, might, have, thought, get, b...       0\n"
          ]
        }
      ],
      "source": [
        "print(data.head(10))"
      ]
    },
    {
      "cell_type": "code",
      "execution_count": null,
      "id": "bed4dbbb",
      "metadata": {
        "id": "bed4dbbb"
      },
      "outputs": [],
      "source": [
        "data['text']=data['text'].apply(' '.join)"
      ]
    },
    {
      "cell_type": "code",
      "execution_count": null,
      "id": "188b3a41",
      "metadata": {
        "id": "188b3a41",
        "outputId": "0f2ddebf-59f5-4ee5-cf24-78018f3bbe78"
      },
      "outputs": [
        {
          "name": "stdout",
          "output_type": "stream",
          "text": [
            "                                                text  target\n",
            "0  donald trump just couldn wish all american hap...       0\n",
            "1  hous intellig committe chairman devin nune hav...       0\n",
            "2  friday was reveal that former milwauke sheriff...       0\n",
            "3  christma day donald trump announc that would b...       0\n",
            "4  pope franci use his annual christma day messag...       0\n",
            "5  the number case cop brutal and kill peopl colo...       0\n",
            "6  donald trump spent good portion his day his go...       0\n",
            "7  the wake yet anoth court decis that derail don...       0\n",
            "8  mani peopl have rais the alarm regard the fact...       0\n",
            "9  just when you might have thought get break fro...       0\n"
          ]
        }
      ],
      "source": [
        "print(data.head(10))"
      ]
    },
    {
      "cell_type": "markdown",
      "id": "e67cf2da",
      "metadata": {
        "id": "e67cf2da"
      },
      "source": [
        "# split data"
      ]
    },
    {
      "cell_type": "code",
      "execution_count": null,
      "id": "0dcb11e4",
      "metadata": {
        "id": "0dcb11e4"
      },
      "outputs": [],
      "source": [
        "from sklearn.model_selection import train_test_split\n",
        "X_train,X_test,y_train,y_test=train_test_split(data['text'],data['target'])"
      ]
    },
    {
      "cell_type": "code",
      "execution_count": null,
      "id": "dddf378a",
      "metadata": {
        "id": "dddf378a",
        "outputId": "93df590b-1685-4bce-c646-922920785843"
      },
      "outputs": [
        {
          "data": {
            "text/plain": [
              "3096     here news flash for donald trump mexico won pa...\n",
              "1824     unit airlin econom and pulic relat tailspin af...\n",
              "7478     march saw yet anoth super tuesday battl wage a...\n",
              "36907    caraca reuter even the volatil and violent sta...\n",
              "19597    starbuck sjws call cop custom for request trum...\n",
              "Name: text, dtype: object"
            ]
          },
          "execution_count": 39,
          "metadata": {},
          "output_type": "execute_result"
        }
      ],
      "source": [
        "X_test.head()"
      ]
    },
    {
      "cell_type": "markdown",
      "id": "1b9d385a",
      "metadata": {
        "id": "1b9d385a"
      },
      "source": [
        "# Vectorization"
      ]
    },
    {
      "cell_type": "code",
      "execution_count": null,
      "id": "745e3534",
      "metadata": {
        "id": "745e3534"
      },
      "outputs": [],
      "source": [
        "from sklearn.feature_extraction.text import TfidfVectorizer\n",
        "my_tfidf = TfidfVectorizer(max_df=0.7)\n",
        "\n",
        "tfidf_train = my_tfidf.fit_transform(X_train)\n",
        "tfidf_test = my_tfidf.transform(X_test)"
      ]
    },
    {
      "cell_type": "code",
      "execution_count": null,
      "id": "82edbf3e",
      "metadata": {
        "id": "82edbf3e",
        "outputId": "490e3cee-536e-4722-b616-8e594570442a"
      },
      "outputs": [
        {
          "name": "stdout",
          "output_type": "stream",
          "text": [
            "  (0, 33294)\t0.014569009961659773\n",
            "  (0, 11966)\t0.03421149949518773\n",
            "  (0, 74459)\t0.054644959601585164\n",
            "  (0, 59765)\t0.026035072256711183\n",
            "  (0, 12814)\t0.03257404155445754\n",
            "  (0, 84680)\t0.0263021205925704\n",
            "  (0, 7854)\t0.02830066675514686\n",
            "  (0, 65476)\t0.03576815481799572\n",
            "  (0, 88101)\t0.040441406647381085\n",
            "  (0, 49030)\t0.06831833615735405\n",
            "  (0, 78918)\t0.04892078382523834\n",
            "  (0, 87697)\t0.023927939874907506\n",
            "  (0, 88749)\t0.015584355089992135\n",
            "  (0, 37875)\t0.06503100784658293\n",
            "  (0, 52840)\t0.05053621264067421\n",
            "  (0, 44131)\t0.03456104147779285\n",
            "  (0, 73502)\t0.02815760893440212\n",
            "  (0, 69195)\t0.022823198112915086\n",
            "  (0, 8429)\t0.03682986370751637\n",
            "  (0, 25933)\t0.04147012582688221\n",
            "  (0, 18060)\t0.04777006498491887\n",
            "  (0, 12277)\t0.02380346452231742\n",
            "  (0, 75049)\t0.04888282232847398\n",
            "  (0, 64999)\t0.029532037857871715\n",
            "  (0, 17598)\t0.021774831520475015\n",
            "  :\t:\n",
            "  (33672, 22897)\t0.0394383204069604\n",
            "  (33672, 51024)\t0.03354848986937443\n",
            "  (33672, 7338)\t0.04654501323202772\n",
            "  (33672, 17188)\t0.021161737835943478\n",
            "  (33672, 24968)\t0.1601100279907605\n",
            "  (33672, 83186)\t0.04771893249366977\n",
            "  (33672, 26742)\t0.026455187631617173\n",
            "  (33672, 69120)\t0.02893772258490509\n",
            "  (33672, 59765)\t0.07001843290828519\n",
            "  (33672, 65476)\t0.04809723828846706\n",
            "  (33672, 88749)\t0.04191239073693085\n",
            "  (33672, 69195)\t0.06138045441413018\n",
            "  (33672, 16408)\t0.047765555906753604\n",
            "  (33672, 76773)\t0.04358881190807516\n",
            "  (33672, 88184)\t0.03234053441070073\n",
            "  (33672, 88621)\t0.08359978284807433\n",
            "  (33672, 9026)\t0.052483019720849136\n",
            "  (33672, 59100)\t0.019350214775367403\n",
            "  (33672, 81341)\t0.060432903421071604\n",
            "  (33672, 38277)\t0.04637197728038794\n",
            "  (33672, 37706)\t0.019364867194443042\n",
            "  (33672, 38990)\t0.06396531888275327\n",
            "  (33672, 74725)\t0.03322622994403863\n",
            "  (33672, 88556)\t0.026849720713133123\n",
            "  (33672, 62999)\t0.07769018155504821\n"
          ]
        }
      ],
      "source": [
        "print(tfidf_train)"
      ]
    },
    {
      "cell_type": "markdown",
      "id": "4eead41e",
      "metadata": {
        "id": "4eead41e"
      },
      "source": [
        "# Logistic Regression"
      ]
    },
    {
      "cell_type": "code",
      "execution_count": null,
      "id": "c68808bf",
      "metadata": {
        "id": "c68808bf"
      },
      "outputs": [],
      "source": [
        "from sklearn.linear_model import LogisticRegression\n",
        "from sklearn.tree import DecisionTreeClassifier\n",
        "from sklearn.metrics import accuracy_score"
      ]
    },
    {
      "cell_type": "code",
      "execution_count": null,
      "id": "80254427",
      "metadata": {
        "id": "80254427",
        "outputId": "33512e97-d14d-47e6-fc50-3850a2f71c3c"
      },
      "outputs": [
        {
          "name": "stdout",
          "output_type": "stream",
          "text": [
            "98.93986636971047\n"
          ]
        }
      ],
      "source": [
        "model = LogisticRegression(max_iter=900)\n",
        "model.fit(tfidf_train,y_train)\n",
        "pred=model.predict(tfidf_test)\n",
        "result=accuracy_score(y_test,pred)\n",
        "print(result*100)"
      ]
    },
    {
      "cell_type": "code",
      "execution_count": null,
      "id": "2aa61e56",
      "metadata": {
        "id": "2aa61e56",
        "outputId": "f07a7317-1b10-40d4-c64c-7759dd740d06"
      },
      "outputs": [
        {
          "data": {
            "text/plain": [
              "PassiveAggressiveClassifier(max_iter=50)"
            ]
          },
          "execution_count": 56,
          "metadata": {},
          "output_type": "execute_result"
        }
      ],
      "source": [
        "from sklearn.linear_model import PassiveAggressiveClassifier\n",
        "\n",
        "modelfinal = PassiveAggressiveClassifier(max_iter = 50)\n",
        "modelfinal.fit(tfidf_train,y_train)"
      ]
    },
    {
      "cell_type": "code",
      "execution_count": null,
      "id": "9029286d",
      "metadata": {
        "id": "9029286d",
        "outputId": "b7b7054c-41d0-4639-c273-6732a9115b38"
      },
      "outputs": [
        {
          "name": "stdout",
          "output_type": "stream",
          "text": [
            "The accuracy of prediction is  99.69710467706014\n"
          ]
        }
      ],
      "source": [
        "y_pred = modelfinal.predict(tfidf_test)\n",
        "accscore = accuracy_score(y_test,y_pred)\n",
        "print(\"The accuracy of prediction is \",accscore*100)"
      ]
    }
  ],
  "metadata": {
    "kernelspec": {
      "display_name": "Python 3",
      "language": "python",
      "name": "python3"
    },
    "language_info": {
      "codemirror_mode": {
        "name": "ipython",
        "version": 3
      },
      "file_extension": ".py",
      "mimetype": "text/x-python",
      "name": "python",
      "nbconvert_exporter": "python",
      "pygments_lexer": "ipython3",
      "version": "3.8.10"
    },
    "colab": {
      "provenance": []
    }
  },
  "nbformat": 4,
  "nbformat_minor": 5
}